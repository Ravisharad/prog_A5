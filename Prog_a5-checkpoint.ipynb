{
 "cells": [
  {
   "cell_type": "code",
   "execution_count": null,
   "id": "0018cfda",
   "metadata": {},
   "outputs": [],
   "source": [
    "# 1 Write a Python Program to Find LCM?"
   ]
  },
  {
   "cell_type": "code",
   "execution_count": 5,
   "id": "bb9eaccd",
   "metadata": {},
   "outputs": [
    {
     "name": "stdout",
     "output_type": "stream",
     "text": [
      "enter first integer :8\n",
      "enter second integer :12\n",
      "lcm  is {} 24\n"
     ]
    }
   ],
   "source": [
    "a = int(input(\"enter first integer :\"))\n",
    "b = int(input(\"enter second integer :\"))\n",
    "maxnum = max(a,b)\n",
    "\n",
    "while(True):\n",
    "    if(maxnum%a==0 and maxnum%b==0):\n",
    "        break\n",
    "    maxnum +=1\n",
    "    \n",
    "print(\"lcm  is {}\", maxnum)\n",
    "    "
   ]
  },
  {
   "cell_type": "code",
   "execution_count": null,
   "id": "bdc7e80e",
   "metadata": {},
   "outputs": [],
   "source": [
    "# 2. Write a Python Program to Find HCF?"
   ]
  },
  {
   "cell_type": "code",
   "execution_count": 7,
   "id": "314955ab",
   "metadata": {},
   "outputs": [
    {
     "name": "stdout",
     "output_type": "stream",
     "text": [
      "enter first integer :15\n",
      "enter second integer :55\n",
      "hcf of given two number is {} 5\n"
     ]
    }
   ],
   "source": [
    "a = int(input(\"enter first integer :\"))\n",
    "b = int(input(\"enter second integer :\"))\n",
    "smallnum = min(a,b)\n",
    "for i in range (1,smallnum+1):\n",
    "    if a%i==0 and b%i==0:\n",
    "        hcf = i\n",
    "        \n",
    "print(\"hcf of given two number is {}\",hcf)\n",
    "\n"
   ]
  },
  {
   "cell_type": "code",
   "execution_count": null,
   "id": "7f176313",
   "metadata": {},
   "outputs": [],
   "source": [
    "#3 Write a Python Program to Convert Decimal to Binary, Octal and Hexadecimal?"
   ]
  },
  {
   "cell_type": "code",
   "execution_count": 9,
   "id": "9499f4af",
   "metadata": {},
   "outputs": [
    {
     "name": "stdout",
     "output_type": "stream",
     "text": [
      "enter a number here:56\n",
      " conversion of decimal number  to binary of 56 is: \n",
      "0b111000\n",
      "0o70 conversion of decimal to octal\n",
      "0x38 convnersion of decimal to hecadecimal\n"
     ]
    }
   ],
   "source": [
    "decimal = int(input(\"enter a number here:\"))\n",
    "print(\" conversion of decimal number  to binary of\", decimal, \"is: \")\n",
    "print(bin(decimal))\n",
    "\n",
    "print(oct(decimal), \"conversion of decimal to octal\")\n",
    "print(hex(decimal), \"convnersion of decimal to hecadecimal\")"
   ]
  },
  {
   "cell_type": "code",
   "execution_count": null,
   "id": "2192d034",
   "metadata": {},
   "outputs": [],
   "source": [
    "# 4 Write a Python Program To Find ASCII value of a character?"
   ]
  },
  {
   "cell_type": "code",
   "execution_count": 10,
   "id": "30b801c7",
   "metadata": {},
   "outputs": [
    {
     "name": "stdout",
     "output_type": "stream",
     "text": [
      "Please enter characters:kamr12\n",
      "k 107\n",
      "a 97\n",
      "m 109\n",
      "r 114\n",
      "1 49\n",
      "2 50\n"
     ]
    }
   ],
   "source": [
    "k = input(\"Please enter characters:\")\n",
    "length = len(k)\n",
    "for i in k:\n",
    "    ASCII = ord(i)\n",
    "    print(i,ASCII)"
   ]
  },
  {
   "cell_type": "code",
   "execution_count": null,
   "id": "49494d09",
   "metadata": {},
   "outputs": [],
   "source": [
    "# 5 Write a Python Program to Make a Simple Calculator with 4 basic mathematical operations?"
   ]
  },
  {
   "cell_type": "code",
   "execution_count": 12,
   "id": "adb4386e",
   "metadata": {},
   "outputs": [
    {
     "name": "stdout",
     "output_type": "stream",
     "text": [
      "please select the operation\n",
      "a.add\n",
      "b.subtract\n",
      "c.multiply\n",
      "d.divide\n",
      "Select from choice (a,b,c,d):d\n",
      "enter first value:300\n",
      "enter second value:6\n",
      "division result: 50.0\n"
     ]
    }
   ],
   "source": [
    "def add(x,y):\n",
    "    return x+y\n",
    "def subtract(x,y):\n",
    "    return x-y\n",
    "def multiply(x,y):\n",
    "    return x*y\n",
    "def divide(x,y):\n",
    "    return x/y\n",
    "print(\"please select the operation\")\n",
    "print(\"a.add\")\n",
    "print(\"b.subtract\")\n",
    "print(\"c.multiply\")\n",
    "print(\"d.divide\")\n",
    "\n",
    "choose = input(\"Select from choice (a,b,c,d):\")\n",
    "\n",
    "num1 = int(input(\"enter first value:\"))\n",
    "num2 = int(input(\"enter second value:\"))\n",
    "\n",
    "if choose== \"a\":\n",
    "    print(\"addition result:\" ,add(num1,num2))\n",
    "elif choose == \"b\":\n",
    "    print(\"subtraction result:\", subtract(num1,num2))\n",
    "elif choose ==\"c\":\n",
    "    print(\"multiplication result:\", multiply(num1,num2))\n",
    "elif choose == \"d\":\n",
    "    print(\"division result:\", divide(num1,num2))\n",
    "else:\n",
    "    print(\"give a valid input:\")"
   ]
  },
  {
   "cell_type": "code",
   "execution_count": null,
   "id": "7c272d9b",
   "metadata": {},
   "outputs": [],
   "source": []
  },
  {
   "cell_type": "code",
   "execution_count": null,
   "id": "c56d46f6",
   "metadata": {},
   "outputs": [],
   "source": []
  },
  {
   "cell_type": "code",
   "execution_count": null,
   "id": "446e1577",
   "metadata": {},
   "outputs": [],
   "source": []
  }
 ],
 "metadata": {
  "kernelspec": {
   "display_name": "Python 3",
   "language": "python",
   "name": "python3"
  },
  "language_info": {
   "codemirror_mode": {
    "name": "ipython",
    "version": 3
   },
   "file_extension": ".py",
   "mimetype": "text/x-python",
   "name": "python",
   "nbconvert_exporter": "python",
   "pygments_lexer": "ipython3",
   "version": "3.8.8"
  }
 },
 "nbformat": 4,
 "nbformat_minor": 5
}
